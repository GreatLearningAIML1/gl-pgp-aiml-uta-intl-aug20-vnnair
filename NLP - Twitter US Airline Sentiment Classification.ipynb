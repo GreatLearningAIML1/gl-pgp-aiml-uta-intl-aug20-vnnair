{
 "cells": [
  {
   "cell_type": "markdown",
   "metadata": {},
   "source": [
    "# Data Description"
   ]
  },
  {
   "cell_type": "markdown",
   "metadata": {},
   "source": [
    "A sentiment analysis job about the problems of each major U.S. airline. Twitter data was scraped from February of 2015 and contributors were asked to first classify positive, negative, and neutral tweets, followed by categorizing negative reasons (such as \"late flight\" or \"rude service\")."
   ]
  },
  {
   "cell_type": "code",
   "execution_count": 1,
   "metadata": {},
   "outputs": [],
   "source": [
    "import re\n",
    "import nltk\n",
    "import numpy as np                                  \n",
    "import pandas as pd\n",
    "from bs4 import BeautifulSoup\n",
    "\n",
    "from nltk.corpus import stopwords\n",
    "from nltk.stem import WordNetLemmatizer\n",
    "from nltk.tokenize import word_tokenize \n",
    "from sklearn.feature_extraction.text import CountVectorizer\n",
    "from sklearn.feature_extraction.text import TfidfVectorizer"
   ]
  },
  {
   "cell_type": "code",
   "execution_count": 2,
   "metadata": {},
   "outputs": [
    {
     "data": {
      "text/plain": [
       "(14640, 2)"
      ]
     },
     "execution_count": 2,
     "metadata": {},
     "output_type": "execute_result"
    }
   ],
   "source": [
    "#There are 14640 observations \n",
    "df = pd.read_csv('Tweets.csv')\n",
    "df = df[['text', 'airline_sentiment']]\n",
    "df.shape"
   ]
  },
  {
   "cell_type": "code",
   "execution_count": 3,
   "metadata": {},
   "outputs": [
    {
     "data": {
      "text/html": [
       "<div>\n",
       "<style scoped>\n",
       "    .dataframe tbody tr th:only-of-type {\n",
       "        vertical-align: middle;\n",
       "    }\n",
       "\n",
       "    .dataframe tbody tr th {\n",
       "        vertical-align: top;\n",
       "    }\n",
       "\n",
       "    .dataframe thead th {\n",
       "        text-align: right;\n",
       "    }\n",
       "</style>\n",
       "<table border=\"1\" class=\"dataframe\">\n",
       "  <thead>\n",
       "    <tr style=\"text-align: right;\">\n",
       "      <th></th>\n",
       "      <th>text</th>\n",
       "      <th>airline_sentiment</th>\n",
       "    </tr>\n",
       "  </thead>\n",
       "  <tbody>\n",
       "    <tr>\n",
       "      <th>0</th>\n",
       "      <td>@VirginAmerica What @dhepburn said.</td>\n",
       "      <td>neutral</td>\n",
       "    </tr>\n",
       "    <tr>\n",
       "      <th>1</th>\n",
       "      <td>@VirginAmerica plus you've added commercials t...</td>\n",
       "      <td>positive</td>\n",
       "    </tr>\n",
       "    <tr>\n",
       "      <th>2</th>\n",
       "      <td>@VirginAmerica I didn't today... Must mean I n...</td>\n",
       "      <td>neutral</td>\n",
       "    </tr>\n",
       "    <tr>\n",
       "      <th>3</th>\n",
       "      <td>@VirginAmerica it's really aggressive to blast...</td>\n",
       "      <td>negative</td>\n",
       "    </tr>\n",
       "    <tr>\n",
       "      <th>4</th>\n",
       "      <td>@VirginAmerica and it's a really big bad thing...</td>\n",
       "      <td>negative</td>\n",
       "    </tr>\n",
       "  </tbody>\n",
       "</table>\n",
       "</div>"
      ],
      "text/plain": [
       "                                                text airline_sentiment\n",
       "0                @VirginAmerica What @dhepburn said.           neutral\n",
       "1  @VirginAmerica plus you've added commercials t...          positive\n",
       "2  @VirginAmerica I didn't today... Must mean I n...           neutral\n",
       "3  @VirginAmerica it's really aggressive to blast...          negative\n",
       "4  @VirginAmerica and it's a really big bad thing...          negative"
      ]
     },
     "execution_count": 3,
     "metadata": {},
     "output_type": "execute_result"
    }
   ],
   "source": [
    "df.head(5)"
   ]
  },
  {
   "cell_type": "code",
   "execution_count": 4,
   "metadata": {},
   "outputs": [],
   "source": [
    "counter = 0\n",
    "for tweet in df['text']:\n",
    "    soup = BeautifulSoup(tweet, \"html.parser\")\n",
    "    df['text'][counter] = soup.get_text()\n",
    "    counter += 1"
   ]
  },
  {
   "cell_type": "code",
   "execution_count": 5,
   "metadata": {},
   "outputs": [],
   "source": [
    "#The contractions library was not installing properly. Hence, I created my own function to fix contractions\n",
    "def decontract(words):\n",
    "    words = re.sub(r\"\\'s\", \" is\", words)\n",
    "    words = re.sub(r\"\\'m\", \" am\", words)\n",
    "    words = re.sub(r\"n\\'t\", \" not\", words)\n",
    "    words = re.sub(r\"\\'re\", \" are\", words)\n",
    "    words = re.sub(r\"\\'t\", \" not\", words)\n",
    "    words = re.sub(r\"\\'d\", \" would\", words)\n",
    "    words = re.sub(r\"\\'ve\", \" have\", words)\n",
    "    words = re.sub(r\"won\\'t\", \"will not\", words)\n",
    "    words = re.sub(r\"\\'ll\", \" will\", words)\n",
    "    words = re.sub(r\"can\\'t\", \"can not\", words)\n",
    "    return words"
   ]
  },
  {
   "cell_type": "code",
   "execution_count": 6,
   "metadata": {},
   "outputs": [],
   "source": [
    "stopwords = stopwords.words('english')"
   ]
  },
  {
   "cell_type": "code",
   "execution_count": 7,
   "metadata": {},
   "outputs": [],
   "source": [
    "def preProcess(text):\n",
    "    #Tokenize\n",
    "    words = nltk.word_tokenize(text)\n",
    "    result = []\n",
    "    for word in words:\n",
    "        #Remove contractions\n",
    "        new = decontract(word)\n",
    "        #Remove numbers\n",
    "        new = re.sub(r'\\d+', '', new)\n",
    "        #Remove special characters and punctuation (non-ASCII characters)\n",
    "        new = re.sub(r'[^\\w\\s]', '', new)\n",
    "        #Conversion to lowercase\n",
    "        new = new.lower()\n",
    "        #Lemmatization\n",
    "        lemmatizer = WordNetLemmatizer()\n",
    "        new = lemmatizer.lemmatize(new, pos ='v')\n",
    "            \n",
    "        if new != '':\n",
    "            result.append(new)   \n",
    "        \n",
    "    return result"
   ]
  },
  {
   "cell_type": "code",
   "execution_count": null,
   "metadata": {},
   "outputs": [],
   "source": [
    "#The following code below can also be used for the same pre-processing purpose.\n",
    "#However, the preProcess function above does the same thing with less lines of code, looping through the corpus once\n",
    "\n",
    "def remove_non_ascii(words):\n",
    "    \"\"\"Remove non-ASCII characters from list of tokenized words\"\"\"\n",
    "    new_words = []\n",
    "    for word in words:\n",
    "        new_word = unicodedata.normalize('NFKD', word).encode('ascii', 'ignore').decode('utf-8', 'ignore')\n",
    "        new_words.append(new_word)\n",
    "    return new_words\n",
    "\n",
    "def makeLowercase(words):\n",
    "    \"\"\"Convert all characters to lowercase from list of tokenized words\"\"\"\n",
    "    new_words = []\n",
    "    for word in words:\n",
    "        new_word = word.lower()\n",
    "        new_words.append(new_word)\n",
    "    return new_words\n",
    "\n",
    "def removePunctuation(words):\n",
    "    \"\"\"Remove punctuation from list of tokenized words\"\"\"\n",
    "    new_words = []\n",
    "    for word in words:\n",
    "        new_word = re.sub(r'[^\\w\\s]', '', word)\n",
    "        if new_word != '':\n",
    "            new_words.append(new_word)\n",
    "    return new_words\n",
    "\n",
    "\n",
    "def lemmatize(words):\n",
    "    new_words = []\n",
    "    for word in words:\n",
    "        new_words.append(lemmatizer.lemmatize(word, pos='v'))\n",
    "    return new_words\n",
    "\n",
    "def normalize(words):\n",
    "    words = remove_non_ascii(words)\n",
    "    words = makeLowercase(words)\n",
    "    words = removePunctuation(words)\n",
    "    words = lemmatize(words)\n",
    "    return ' '.join(words)\n",
    "\n",
    "data['text'] = data.apply(lambda row: normalize(row['text']), axis=1)"
   ]
  },
  {
   "cell_type": "code",
   "execution_count": 8,
   "metadata": {},
   "outputs": [
    {
     "data": {
      "text/html": [
       "<div>\n",
       "<style scoped>\n",
       "    .dataframe tbody tr th:only-of-type {\n",
       "        vertical-align: middle;\n",
       "    }\n",
       "\n",
       "    .dataframe tbody tr th {\n",
       "        vertical-align: top;\n",
       "    }\n",
       "\n",
       "    .dataframe thead th {\n",
       "        text-align: right;\n",
       "    }\n",
       "</style>\n",
       "<table border=\"1\" class=\"dataframe\">\n",
       "  <thead>\n",
       "    <tr style=\"text-align: right;\">\n",
       "      <th></th>\n",
       "      <th>text</th>\n",
       "      <th>airline_sentiment</th>\n",
       "    </tr>\n",
       "  </thead>\n",
       "  <tbody>\n",
       "    <tr>\n",
       "      <th>0</th>\n",
       "      <td>virginamerica what dhepburn say</td>\n",
       "      <td>neutral</td>\n",
       "    </tr>\n",
       "    <tr>\n",
       "      <th>1</th>\n",
       "      <td>virginamerica plus you  have add commercials t...</td>\n",
       "      <td>positive</td>\n",
       "    </tr>\n",
       "    <tr>\n",
       "      <th>2</th>\n",
       "      <td>virginamerica i do  not today must mean i need...</td>\n",
       "      <td>neutral</td>\n",
       "    </tr>\n",
       "    <tr>\n",
       "      <th>3</th>\n",
       "      <td>virginamerica it  is really aggressive to blas...</td>\n",
       "      <td>negative</td>\n",
       "    </tr>\n",
       "    <tr>\n",
       "      <th>4</th>\n",
       "      <td>virginamerica and it  is a really big bad thin...</td>\n",
       "      <td>negative</td>\n",
       "    </tr>\n",
       "  </tbody>\n",
       "</table>\n",
       "</div>"
      ],
      "text/plain": [
       "                                                text airline_sentiment\n",
       "0                    virginamerica what dhepburn say           neutral\n",
       "1  virginamerica plus you  have add commercials t...          positive\n",
       "2  virginamerica i do  not today must mean i need...           neutral\n",
       "3  virginamerica it  is really aggressive to blas...          negative\n",
       "4  virginamerica and it  is a really big bad thin...          negative"
      ]
     },
     "execution_count": 8,
     "metadata": {},
     "output_type": "execute_result"
    }
   ],
   "source": [
    "for i, row in df.iterrows():\n",
    "    txt = df.at[i, 'text']\n",
    "    words = preProcess(txt)\n",
    "    words = ' '.join(words)\n",
    "    df.at[i,'text'] = words\n",
    "df.head()"
   ]
  },
  {
   "cell_type": "code",
   "execution_count": 9,
   "metadata": {},
   "outputs": [
    {
     "name": "stdout",
     "output_type": "stream",
     "text": [
      "virginamerica what dhepburn say\n",
      "virginamerica plus you  have add commercials to the experience tacky\n",
      "virginamerica i do  not today must mean i need to take another trip\n",
      "virginamerica it  is really aggressive to blast obnoxious entertainment in your guests face they have little recourse\n",
      "virginamerica and it  is a really big bad thing about it\n",
      "virginamerica seriously would pay a flight for seat that do  not have this play it  is really the only bad thing about fly va\n",
      "virginamerica yes nearly every time i fly vx this ear worm win t go away\n",
      "virginamerica really miss a prime opportunity for men without hat parody there https tcomwpggrezp\n",
      "virginamerica well i did notbut now i do d\n",
      "virginamerica it be amaze and arrive an hour early you  are too good to me\n"
     ]
    }
   ],
   "source": [
    "for i in range(10):\n",
    "    print(df['text'][i])"
   ]
  },
  {
   "cell_type": "code",
   "execution_count": 10,
   "metadata": {},
   "outputs": [],
   "source": [
    "# Vectorization (Convert text data to numbers).\n",
    "count_vec1 = CountVectorizer(max_features=1000) \n",
    "countvec_features1 = count_vec1.fit_transform(df['text'])\n",
    "countvec_features1 = countvec_features1.toarray()\n",
    "\n",
    "count_vec2 = CountVectorizer(max_features=1000, ngram_range = (2,2)) \n",
    "countvec_features2 = count_vec2.fit_transform(df['text'])\n",
    "countvec_features2 = countvec_features2.toarray()  "
   ]
  },
  {
   "cell_type": "code",
   "execution_count": 11,
   "metadata": {},
   "outputs": [],
   "source": [
    "tfidf_vec1 = TfidfVectorizer(max_features=1000) \n",
    "tfidfvec_features1 = tfidf_vec1.fit_transform(df['text'])\n",
    "tfidfvec_features1 = tfidfvec_features1.toarray()   \n",
    "\n",
    "tfidf_vec2 = TfidfVectorizer(max_features=1000, ngram_range = (2,2)) \n",
    "tfidfvec_features2 = tfidf_vec2.fit_transform(df['text'])\n",
    "tfidfvec_features2 = tfidfvec_features2.toarray()   "
   ]
  },
  {
   "cell_type": "code",
   "execution_count": 12,
   "metadata": {},
   "outputs": [
    {
     "name": "stdout",
     "output_type": "stream",
     "text": [
      "(14640, 1000)\n",
      "(14640, 1000)\n"
     ]
    }
   ],
   "source": [
    "#Kept only a 1000 features to minimize processing time\n",
    "print(countvec_features1.shape)\n",
    "print(tfidfvec_features1.shape)"
   ]
  },
  {
   "cell_type": "code",
   "execution_count": 13,
   "metadata": {},
   "outputs": [],
   "source": [
    "mapping = {\"negative\":1, \"neutral\":2, \"positive\":3}\n",
    "df = df.replace({\"airline_sentiment\": mapping})"
   ]
  },
  {
   "cell_type": "code",
   "execution_count": 14,
   "metadata": {},
   "outputs": [
    {
     "data": {
      "text/html": [
       "<div>\n",
       "<style scoped>\n",
       "    .dataframe tbody tr th:only-of-type {\n",
       "        vertical-align: middle;\n",
       "    }\n",
       "\n",
       "    .dataframe tbody tr th {\n",
       "        vertical-align: top;\n",
       "    }\n",
       "\n",
       "    .dataframe thead th {\n",
       "        text-align: right;\n",
       "    }\n",
       "</style>\n",
       "<table border=\"1\" class=\"dataframe\">\n",
       "  <thead>\n",
       "    <tr style=\"text-align: right;\">\n",
       "      <th></th>\n",
       "      <th>text</th>\n",
       "      <th>airline_sentiment</th>\n",
       "    </tr>\n",
       "  </thead>\n",
       "  <tbody>\n",
       "    <tr>\n",
       "      <th>0</th>\n",
       "      <td>virginamerica what dhepburn say</td>\n",
       "      <td>2</td>\n",
       "    </tr>\n",
       "    <tr>\n",
       "      <th>1</th>\n",
       "      <td>virginamerica plus you  have add commercials t...</td>\n",
       "      <td>3</td>\n",
       "    </tr>\n",
       "    <tr>\n",
       "      <th>2</th>\n",
       "      <td>virginamerica i do  not today must mean i need...</td>\n",
       "      <td>2</td>\n",
       "    </tr>\n",
       "    <tr>\n",
       "      <th>3</th>\n",
       "      <td>virginamerica it  is really aggressive to blas...</td>\n",
       "      <td>1</td>\n",
       "    </tr>\n",
       "    <tr>\n",
       "      <th>4</th>\n",
       "      <td>virginamerica and it  is a really big bad thin...</td>\n",
       "      <td>1</td>\n",
       "    </tr>\n",
       "    <tr>\n",
       "      <th>...</th>\n",
       "      <td>...</td>\n",
       "      <td>...</td>\n",
       "    </tr>\n",
       "    <tr>\n",
       "      <th>14635</th>\n",
       "      <td>americanair thank you we get on a different fl...</td>\n",
       "      <td>3</td>\n",
       "    </tr>\n",
       "    <tr>\n",
       "      <th>14636</th>\n",
       "      <td>americanair leave over minutes late flight no ...</td>\n",
       "      <td>1</td>\n",
       "    </tr>\n",
       "    <tr>\n",
       "      <th>14637</th>\n",
       "      <td>americanair please bring american airlines to ...</td>\n",
       "      <td>2</td>\n",
       "    </tr>\n",
       "    <tr>\n",
       "      <th>14638</th>\n",
       "      <td>americanair you have my money you change my fl...</td>\n",
       "      <td>1</td>\n",
       "    </tr>\n",
       "    <tr>\n",
       "      <th>14639</th>\n",
       "      <td>americanair we have ppl so we need know how ma...</td>\n",
       "      <td>2</td>\n",
       "    </tr>\n",
       "  </tbody>\n",
       "</table>\n",
       "<p>14640 rows × 2 columns</p>\n",
       "</div>"
      ],
      "text/plain": [
       "                                                    text  airline_sentiment\n",
       "0                        virginamerica what dhepburn say                  2\n",
       "1      virginamerica plus you  have add commercials t...                  3\n",
       "2      virginamerica i do  not today must mean i need...                  2\n",
       "3      virginamerica it  is really aggressive to blas...                  1\n",
       "4      virginamerica and it  is a really big bad thin...                  1\n",
       "...                                                  ...                ...\n",
       "14635  americanair thank you we get on a different fl...                  3\n",
       "14636  americanair leave over minutes late flight no ...                  1\n",
       "14637  americanair please bring american airlines to ...                  2\n",
       "14638  americanair you have my money you change my fl...                  1\n",
       "14639  americanair we have ppl so we need know how ma...                  2\n",
       "\n",
       "[14640 rows x 2 columns]"
      ]
     },
     "execution_count": 14,
     "metadata": {},
     "output_type": "execute_result"
    }
   ],
   "source": [
    "df"
   ]
  },
  {
   "cell_type": "code",
   "execution_count": 15,
   "metadata": {},
   "outputs": [],
   "source": [
    "#I create 4 train/test splits to observe how unigrams and bigrams affect the model performance\n",
    "#I use the countvectorizer and tfidf vectorizer with unigrams and bigrams to train four models\n",
    "from sklearn.model_selection import train_test_split\n",
    "X_train1, X_test1, y_train1, y_test1 = train_test_split(countvec_features1, df['airline_sentiment'], test_size=0.3, random_state=0)\n",
    "X_train2, X_test2, y_train2, y_test2 = train_test_split(countvec_features2, df['airline_sentiment'], test_size=0.3, random_state=0)\n",
    "X_train3, X_test3, y_train3, y_test3 = train_test_split(tfidfvec_features1, df['airline_sentiment'], test_size=0.3, random_state=0)\n",
    "X_train4, X_test4, y_train4, y_test4 = train_test_split(tfidfvec_features2, df['airline_sentiment'], test_size=0.3, random_state=0)"
   ]
  },
  {
   "cell_type": "code",
   "execution_count": 16,
   "metadata": {},
   "outputs": [
    {
     "name": "stdout",
     "output_type": "stream",
     "text": [
      "RandomForestClassifier(bootstrap=True, ccp_alpha=0.0, class_weight=None,\n",
      "                       criterion='gini', max_depth=None, max_features='auto',\n",
      "                       max_leaf_nodes=None, max_samples=None,\n",
      "                       min_impurity_decrease=0.0, min_impurity_split=None,\n",
      "                       min_samples_leaf=1, min_samples_split=2,\n",
      "                       min_weight_fraction_leaf=0.0, n_estimators=10, n_jobs=4,\n",
      "                       oob_score=False, random_state=None, verbose=0,\n",
      "                       warm_start=False)\n",
      "0.7170765027322406\n"
     ]
    }
   ],
   "source": [
    "#Countvectorizer using unigrams model \n",
    "\n",
    "from sklearn.ensemble import RandomForestClassifier\n",
    "from sklearn.model_selection import cross_val_score\n",
    "\n",
    "forest1 = RandomForestClassifier(n_estimators=10, n_jobs=4)\n",
    "forest1 = forest1.fit(X_train1, y_train1)\n",
    "print(forest1)\n",
    "print(np.mean(cross_val_score(forest1, countvec_features1, df['airline_sentiment'], cv=10)))"
   ]
  },
  {
   "cell_type": "code",
   "execution_count": 17,
   "metadata": {},
   "outputs": [
    {
     "name": "stdout",
     "output_type": "stream",
     "text": [
      "RandomForestClassifier(bootstrap=True, ccp_alpha=0.0, class_weight=None,\n",
      "                       criterion='gini', max_depth=None, max_features='auto',\n",
      "                       max_leaf_nodes=None, max_samples=None,\n",
      "                       min_impurity_decrease=0.0, min_impurity_split=None,\n",
      "                       min_samples_leaf=1, min_samples_split=2,\n",
      "                       min_weight_fraction_leaf=0.0, n_estimators=10, n_jobs=4,\n",
      "                       oob_score=False, random_state=None, verbose=0,\n",
      "                       warm_start=False)\n",
      "0.6691939890710382\n"
     ]
    }
   ],
   "source": [
    "#Count vectorizer using bigrams model \n",
    "forest2 = RandomForestClassifier(n_estimators=10, n_jobs=4)\n",
    "forest2 = forest2.fit(X_train2, y_train2)\n",
    "print(forest2)\n",
    "print(np.mean(cross_val_score(forest2, countvec_features2, df['airline_sentiment'], cv=10)))"
   ]
  },
  {
   "cell_type": "code",
   "execution_count": 18,
   "metadata": {},
   "outputs": [
    {
     "name": "stdout",
     "output_type": "stream",
     "text": [
      "RandomForestClassifier(bootstrap=True, ccp_alpha=0.0, class_weight=None,\n",
      "                       criterion='gini', max_depth=None, max_features='auto',\n",
      "                       max_leaf_nodes=None, max_samples=None,\n",
      "                       min_impurity_decrease=0.0, min_impurity_split=None,\n",
      "                       min_samples_leaf=1, min_samples_split=2,\n",
      "                       min_weight_fraction_leaf=0.0, n_estimators=10, n_jobs=4,\n",
      "                       oob_score=False, random_state=None, verbose=0,\n",
      "                       warm_start=False)\n",
      "0.7183743169398907\n"
     ]
    }
   ],
   "source": [
    "#Tfidf vectorizer using unigrams model \n",
    "forest3 = RandomForestClassifier(n_estimators=10, n_jobs=4)\n",
    "forest3 = forest3.fit(X_train3, y_train3)\n",
    "print(forest3)\n",
    "print(np.mean(cross_val_score(forest3, tfidfvec_features1, df['airline_sentiment'], cv=10)))"
   ]
  },
  {
   "cell_type": "code",
   "execution_count": 19,
   "metadata": {},
   "outputs": [
    {
     "name": "stdout",
     "output_type": "stream",
     "text": [
      "RandomForestClassifier(bootstrap=True, ccp_alpha=0.0, class_weight=None,\n",
      "                       criterion='gini', max_depth=None, max_features='auto',\n",
      "                       max_leaf_nodes=None, max_samples=None,\n",
      "                       min_impurity_decrease=0.0, min_impurity_split=None,\n",
      "                       min_samples_leaf=1, min_samples_split=2,\n",
      "                       min_weight_fraction_leaf=0.0, n_estimators=10, n_jobs=4,\n",
      "                       oob_score=False, random_state=None, verbose=0,\n",
      "                       warm_start=False)\n",
      "0.6873633879781421\n"
     ]
    }
   ],
   "source": [
    "#Tfidf vectorizer using bigrams model \n",
    "forest4 = RandomForestClassifier(n_estimators=10, n_jobs=4)\n",
    "forest4 = forest4.fit(X_train4, y_train4)\n",
    "print(forest4)\n",
    "print(np.mean(cross_val_score(forest4, tfidfvec_features2, df['airline_sentiment'], cv=10)))"
   ]
  },
  {
   "cell_type": "markdown",
   "metadata": {},
   "source": [
    "Insights: From the results of these four models, it appears that building classifiers using unigrams leads to better results. This is surprising since bigrams would theoretically capture more contextual information in the Tweets. In both the count vectorizer and tfidf vectorizer, unigrams yield higher accuracy. Thus, I make the decision to only do further analysis using unigrams from this point onwards. Additionally, it seems that the count vectorizer performs better than the tfidf vectorizer by a very slight amount, although not significantly better. Thus, I do further exploration on the the unigram models for both vectorizers"
   ]
  },
  {
   "cell_type": "code",
   "execution_count": 20,
   "metadata": {},
   "outputs": [
    {
     "name": "stdout",
     "output_type": "stream",
     "text": [
      "[[2563  180   45]\n",
      " [ 466  397   56]\n",
      " [ 252  117  316]]\n"
     ]
    },
    {
     "data": {
      "text/plain": [
       "<matplotlib.axes._subplots.AxesSubplot at 0x7fa59e575a10>"
      ]
     },
     "execution_count": 20,
     "metadata": {},
     "output_type": "execute_result"
    },
    {
     "data": {
      "image/png": "[encoded data removed]",
      "text/plain": [
       "<Figure size 720x504 with 2 Axes>"
      ]
     },
     "metadata": {
      "needs_background": "light"
     },
     "output_type": "display_data"
    }
   ],
   "source": [
    "import matplotlib.pyplot as plt\n",
    "import seaborn as sns\n",
    "from sklearn.metrics import confusion_matrix\n",
    "\n",
    "#Countvectorizer performance using unigrams\n",
    "preds = forest1.predict(X_test1)\n",
    "conf_mat = confusion_matrix(y_test1, preds)\n",
    "print(conf_mat)\n",
    "df_cm = pd.DataFrame(conf_mat, index = [i for i in \"123\"],\n",
    "                  columns = [i for i in \"123\"])\n",
    "plt.figure(figsize = (10,7))\n",
    "sns.heatmap(df_cm, annot=True, fmt='g')"
   ]
  },
  {
   "cell_type": "code",
   "execution_count": 21,
   "metadata": {},
   "outputs": [
    {
     "name": "stdout",
     "output_type": "stream",
     "text": [
      "[[2610  133   45]\n",
      " [ 489  377   53]\n",
      " [ 287   97  301]]\n"
     ]
    },
    {
     "data": {
      "text/plain": [
       "<matplotlib.axes._subplots.AxesSubplot at 0x7fa59e94cdd0>"
      ]
     },
     "execution_count": 21,
     "metadata": {},
     "output_type": "execute_result"
    },
    {
     "data": {
      "image/png": "[encoded data removed]",
      "text/plain": [
       "<Figure size 720x504 with 2 Axes>"
      ]
     },
     "metadata": {
      "needs_background": "light"
     },
     "output_type": "display_data"
    }
   ],
   "source": [
    "#Tf-idf vectorizer performance using unigrams\n",
    "preds = forest3.predict(X_test3)\n",
    "conf_mat = confusion_matrix(y_test3, preds)\n",
    "print(conf_mat)\n",
    "df_cm = pd.DataFrame(conf_mat, index = [i for i in \"123\"],\n",
    "                  columns = [i for i in \"123\"])\n",
    "plt.figure(figsize = (10,7))\n",
    "sns.heatmap(df_cm, annot=True, fmt='g')"
   ]
  },
  {
   "cell_type": "code",
   "execution_count": 22,
   "metadata": {},
   "outputs": [
    {
     "data": {
      "text/html": [
       "<div>\n",
       "<style scoped>\n",
       "    .dataframe tbody tr th:only-of-type {\n",
       "        vertical-align: middle;\n",
       "    }\n",
       "\n",
       "    .dataframe tbody tr th {\n",
       "        vertical-align: top;\n",
       "    }\n",
       "\n",
       "    .dataframe thead th {\n",
       "        text-align: right;\n",
       "    }\n",
       "</style>\n",
       "<table border=\"1\" class=\"dataframe\">\n",
       "  <thead>\n",
       "    <tr style=\"text-align: right;\">\n",
       "      <th></th>\n",
       "      <th>text</th>\n",
       "    </tr>\n",
       "    <tr>\n",
       "      <th>airline_sentiment</th>\n",
       "      <th></th>\n",
       "    </tr>\n",
       "  </thead>\n",
       "  <tbody>\n",
       "    <tr>\n",
       "      <th>1</th>\n",
       "      <td>9178</td>\n",
       "    </tr>\n",
       "    <tr>\n",
       "      <th>2</th>\n",
       "      <td>3099</td>\n",
       "    </tr>\n",
       "    <tr>\n",
       "      <th>3</th>\n",
       "      <td>2363</td>\n",
       "    </tr>\n",
       "  </tbody>\n",
       "</table>\n",
       "</div>"
      ],
      "text/plain": [
       "                   text\n",
       "airline_sentiment      \n",
       "1                  9178\n",
       "2                  3099\n",
       "3                  2363"
      ]
     },
     "execution_count": 22,
     "metadata": {},
     "output_type": "execute_result"
    }
   ],
   "source": [
    "df.groupby(by=[\"airline_sentiment\"]).count()"
   ]
  },
  {
   "cell_type": "code",
   "execution_count": 28,
   "metadata": {},
   "outputs": [
    {
     "name": "stdout",
     "output_type": "stream",
     "text": [
      "CountVectorizer Model Negative Sentiment Accuracy: 88.66571018651362\n",
      "CountVectorizer Model Neutral Sentiment Accuracy: 47.87812840043525\n",
      "CountVectorizer Model Positive Sentiment Accuracy: 51.67883211678832\n",
      "\n",
      "TF-IDF Model Negative Sentiment Accuracy: 92.46771879483501\n",
      "TF-IDF Model Neutral Sentiment Accuracy: 40.696409140369965\n",
      "TF-IDF Model Positive Sentiment Accuracy: 46.277372262773724\n"
     ]
    }
   ],
   "source": [
    "print('CountVectorizer Model Negative Sentiment Accuracy: ' + str(2563/2788 * 100))\n",
    "print('CountVectorizer Model Neutral Sentiment Accuracy: ' + str(397/919 * 100))\n",
    "print('CountVectorizer Model Positive Sentiment Accuracy: ' + str(316/685 * 100))\n",
    "print('')\n",
    "print('TF-IDF Model Negative Sentiment Accuracy: ' + str(2610/2788 * 100))\n",
    "print('TF-IDF Model Neutral Sentiment Accuracy: ' + str(377/919 * 100))\n",
    "print('TF-IDF Model Positive Sentiment Accuracy: ' + str(301/685 * 100))"
   ]
  },
  {
   "cell_type": "markdown",
   "metadata": {},
   "source": [
    "# Summary"
   ]
  },
  {
   "cell_type": "markdown",
   "metadata": {},
   "source": [
    "In this analysis, various pre-processing steps were done on a dataset of Twitter reviews on various airlines for the final purpose of sentiment analysis. Firstly, the data was tokenized, or broken up into individual words for pre-processing. These tweets contained special characters, punctuation, capital letters, and other non-required items that needed to be removed. This is done so that the data will be more processable by ML models. HTML tags were also removed since they do not contribute anything of value for sentiment analysis purposes. Special characters such as non-ASCII were removed as well to further denoise the dataset. Stop words can be removed to reduce dimensionality in the document-term matrix. These words also do not contribute much to the meaning of phrases and are thus not required for ML models. However, this was not done in this analysis to preserve contextual information. Lemmatization was done in order to convert inflections of a word into dictionary form. We use vectorizers in order to develop a bag of words, where we can see frequencies or relative frequencies of a word within the documents. The tf-idf vectorizer is used to evaluate the importance of a word in a single document without looking at other documents whereas the countvectorizer simply gives us counts of word occurrences. The documents can be read as unigrams, bigrams, trigrams, etc. Using higher n-grams increases dimensionality of the dataset by a lot, so to save computational expense I experiment with unigrams and bigrams only. Unigrams consider one word at a time whereas bigrams read in two words at a time. Although bigrams may help in understanding contextual information better, we see here that the unigram models yield better performance."
   ]
  },
  {
   "cell_type": "markdown",
   "metadata": {},
   "source": [
    "Overall, my models performed decently on this dataset, having accuracies around 70% for both CountVectorizer and Tf-Idf models. Negative sentiment was pervasive in the dataset, so the countvectorizer and tf-idf random forest models had accuracies of 88.67% and 92.47%, respectively within this subset. Both models were able to classify negative sentiment with high accuracy since a majority of the training data was filled with it. Neutral sentiment was predicted with accuracies of around mid 40% for both models. Despite normal amount of neutral sentiment in the dataset, the models did not do a particularly good job predicting these. Although positive sentiment had the least observations in the whole dataset, it was classified with around a 50% accuracy, slightly better than the accuracy of neutral sentiment. In the future, a larger dataset with more evenly distributed observations for each sentiment need to be used to improve performance."
   ]
  }
 ],
 "metadata": {
  "kernelspec": {
   "display_name": "Python 3",
   "language": "python",
   "name": "python3"
  },
  "language_info": {
   "codemirror_mode": {
    "name": "ipython",
    "version": 3
   },
   "file_extension": ".py",
   "mimetype": "text/x-python",
   "name": "python",
   "nbconvert_exporter": "python",
   "pygments_lexer": "ipython3",
   "version": "3.7.6"
  }
 },
 "nbformat": 4,
 "nbformat_minor": 4
}
